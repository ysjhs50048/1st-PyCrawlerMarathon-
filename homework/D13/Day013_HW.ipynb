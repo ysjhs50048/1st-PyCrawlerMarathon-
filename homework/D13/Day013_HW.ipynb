{
 "cells": [
  {
   "cell_type": "markdown",
   "metadata": {},
   "source": [
    "# PTT 網路爬蟲實作練習\n",
    "\n",
    "\n",
    "* 能夠利用 Request + BeatifulSour 撰寫爬蟲，並存放到合適的資料結構\n"
   ]
  },
  {
   "cell_type": "markdown",
   "metadata": {},
   "source": [
    "## 作業目標\n",
    "\n",
    "根據範例 ，完成以下問題：\n",
    "\n",
    "* ① 印出最新文章的「作者」「標題」「時間」\n",
    "* ② 印出第一頁所有文章的「作者」「標題」「時間」\n"
   ]
  },
  {
   "cell_type": "markdown",
   "metadata": {},
   "source": [
    "### ① 印出最新文章的「作者」「標題」「時間」"
   ]
  },
  {
   "cell_type": "code",
   "execution_count": 24,
   "metadata": {},
   "outputs": [
    {
     "name": "stdout",
     "output_type": "stream",
     "text": [
      "[BOX ] Thunder 121:106 Cavaliers 數據\n",
      "[新聞] 雙衛10記三分彈破籃網 暴龍寫16分逆轉勝\n",
      "作者: phoenix286 (糰子大家族)\n",
      "時間: 作者phoenix286 (糰子大家族)\n",
      "[BOX ] Pacers 111:116 Hawks 數據\n",
      "[BOX ] Celtics 111:104 Bulls 數據\n",
      "(本文已被刪除) [pinjose]\n",
      "[BOX ] Nuggets 114:128 Wizards 數據\n",
      "Re: [花邊] Love今日訓練後對總經理表達不滿言辭激烈\n",
      "作者: s27052705 (小飽)\n",
      "時間: 作者s27052705 (小飽)\n",
      "[BOX ] Spurs 118:127 Bucks 數據\n",
      "[BOX ] Pistons 111:104 Warriors 數據\n",
      "(本文已被刪除) [sungastill]\n",
      "[BOX ] Hornets 123:120 Mavericks 數據\n",
      "[情報] 騎士總教練談Love比賽中發脾氣：我的錯\n",
      "作者: la1aco (lalaco)\n",
      "時間: 作者la1aco (lalaco)\n",
      "(本文已被刪除) [namie810303]\n",
      "[情報] Ish Smith 生涯新高\n",
      "作者: WindSaint (中山獼猴拳)\n",
      "時間: 作者WindSaint (中山獼猴拳)\n",
      "[花邊] 某NBA球迷挑戰30天登上30座球場大螢幕\n",
      "作者: nwd4e9cd (冒泡泡~泡泡！)\n",
      "時間: 作者nwd4e9cd (冒泡泡~泡泡！)\n",
      "[BOX ] Pelicans 117:115 Kings 數據\n",
      "[討論] Luka Doncic今天表現\n",
      "作者: yang0405 (三羊可可)\n",
      "時間: 作者yang0405 (三羊可可)\n",
      "[情報] 東契奇談大三元次數超越基德：我並不關心\n",
      "作者: Teentop (Teentop)\n",
      "時間: 作者Teentop (Teentop)\n",
      "[新聞] 2010年代十大焦點報你知！詹姆斯一個舉動\n",
      "作者: asdf1256 (guest)\n",
      "時間: 作者asdf1256 (guest)\n",
      "[公告] 板規v6.8\n",
      "[公告] 樂透取消及未來不再開啟樂透\n",
      "作者: Vedan (味丹)\n",
      "時間: 作者Vedan (味丹)\n",
      "[公告] 版主上任相關事項 \n",
      "作者: qazwsx879345 (Rajon Rondo)\n",
      "時間: 作者qazwsx879345 (Rajon Rondo)\n",
      "[情報] SEASON Schedule 賽程 January 19–20\n",
      "作者: Acetoxy (阿斯)\n",
      "時間: 作者Acetoxy (阿斯)\n"
     ]
    }
   ],
   "source": [
    "import requests\n",
    "from bs4 import BeautifulSoup\n",
    "url='https://www.ptt.cc/bbs/NBA/index.html'\n",
    "r=requests.get(url)\n",
    "soup=BeautifulSoup(r.text,\"html5lib\")\n",
    "for d in soup.find_all(class_=\"title\"):\n",
    "    print(d.text.replace('\\t', '').replace('\\n', ''))\n",
    "    try:\n",
    "        r = BeautifulSoup(requests.get('https://www.ptt.cc'+d.find('a')['href']).text, \"html5lib\")\n",
    "        print('作者: ' + r.find(class_='article-meta-value').text)\n",
    "        print('時間: ' + r.find(class_='article-metaline').text)\n",
    "    except:\n",
    "        continue"
   ]
  },
  {
   "cell_type": "markdown",
   "metadata": {},
   "source": [
    "### ② 印出第一頁所有文章的「作者」「標題」「時間」"
   ]
  },
  {
   "cell_type": "code",
   "execution_count": 25,
   "metadata": {},
   "outputs": [
    {
     "name": "stdout",
     "output_type": "stream",
     "text": [
      "[轉錄]Lyotard 對於太陽板討論串的結論\n",
      "作者: Price (Price)\n",
      "時間: 作者Price (Price)\n",
      "[公告] 請停止一切關於本次活動的發言\n",
      "作者: Price (Price)\n",
      "時間: 作者Price (Price)\n",
      "[轉錄]跟之前那篇比起來 我覺得這篇也應該轉過來\n",
      "作者: Frankaze (神采風華)\n",
      "時間: 作者Frankaze (神采風華)\n",
      "[轉錄]再轉一篇好文來\n",
      "作者: Frankaze (神采風華)\n",
      "時間: 作者Frankaze (神采風華)\n",
      "[轉錄][情報] 夏洛特山貓系列\n",
      "作者: Price (Price)\n",
      "時間: 作者Price (Price)\n",
      "[轉錄]Re: [心得] 真是受不了糗爺....\n",
      "作者: Price (Price)\n",
      "時間: 作者Price (Price)\n",
      "[轉錄]總冠軍賽NO.2觀後感\n",
      "作者: Price (Price)\n",
      "時間: 作者Price (Price)\n",
      "[心得] Rasheed Wallace\n",
      "作者: AmuroNamie (原來太嗨真的會失眠^___^)\n",
      "時間: 作者AmuroNamie (原來太嗨真的會失眠^___^)\n",
      "掌控球賽的男人\n",
      "作者: toptree (  )\n",
      "時間: 作者toptree (  )\n",
      "[閒聊] 說說2004季後賽名場面回顧\n",
      "作者: skchang (3EB板開板囉！)\n",
      "時間: 作者skchang (3EB板開板囉！)\n",
      "[心得] 其實說穿了 就是活塞的防守太可怕了\n",
      "作者: shineup ()\n",
      "時間: 作者shineup ()\n",
      "Re: [閒聊] 說說2004季後賽名場面回顧\n",
      "作者: cOvi (喵~)\n",
      "時間: 作者cOvi (喵~)\n",
      "Re: [閒聊] 說說2004季後賽名場面回顧\n",
      "作者: ykshih (￼N￼Ns)\n",
      "時間: 作者ykshih (￼N￼Ns)\n",
      "Re: [閒聊] 說說2004季後賽名場面回顧\n",
      "作者: Frankaze (神采風華)\n",
      "時間: 作者Frankaze (神采風華)\n",
      "[轉錄]Re: 總冠軍賽NO.3觀後感\n",
      "作者: Price (Price)\n",
      "時間: 作者Price (Price)\n",
      "[轉錄]Re: 總冠軍賽NO.3觀後感\n",
      "作者: Frankaze (神采風華)\n",
      "時間: 作者Frankaze (神采風華)\n",
      "Re: [轉錄]Re: 總冠軍賽NO.3觀後感\n",
      "作者: star1 (第一次魔術表演不算成功)\n",
      "時間: 作者star1 (第一次魔術表演不算成功)\n",
      "Re: [轉錄]Re: 總冠軍賽NO.3觀後感\n",
      "作者: coldspring (笑笑)\n",
      "時間: 作者coldspring (笑笑)\n",
      "Re: Kobe is frustrated...\n",
      "作者: airbear (地圖)\n",
      "時間: 作者airbear (地圖)\n",
      "Re: [轉錄]Re: 總冠軍賽NO.3觀後感\n",
      "作者: pennykidd (andre)\n",
      "時間: 作者pennykidd (andre)\n"
     ]
    }
   ],
   "source": [
    "import requests\n",
    "from bs4 import BeautifulSoup\n",
    "url='https://www.ptt.cc/bbs/NBA/index1.html'\n",
    "r=requests.get(url)\n",
    "soup=BeautifulSoup(r.text,\"html5lib\")\n",
    "for d in soup.find_all(class_=\"title\"):\n",
    "    print(d.text.replace('\\t', '').replace('\\n', ''))\n",
    "    try:\n",
    "        r = BeautifulSoup(requests.get('https://www.ptt.cc'+d.find('a')['href']).text, \"html5lib\")\n",
    "        print('作者: ' + r.find(class_='article-meta-value').text)\n",
    "        print('時間: ' + r.find(class_='article-metaline').text)\n",
    "    except:\n",
    "        continue"
   ]
  },
  {
   "cell_type": "markdown",
   "metadata": {},
   "source": [
    "### ③ 試著爬爬看其他版的文章"
   ]
  },
  {
   "cell_type": "code",
   "execution_count": 26,
   "metadata": {},
   "outputs": [
    {
     "name": "stdout",
     "output_type": "stream",
     "text": [
      "[新聞] 紅色供應鏈奪蘋單 衝擊台廠\n",
      "作者: orz44444 (陰人不應該向陽人裝熟~~)\n",
      "時間: 作者orz44444 (陰人不應該向陽人裝熟~~)\n",
      "[問卷]多重職業持有者工作意圖調查\n",
      "作者: Tesarus (牙齒痛)\n",
      "時間: 作者Tesarus (牙齒痛)\n",
      "Re: [請益] 欣興-設備自動化 面試問題\n",
      "作者: n4939733 (monster)\n",
      "時間: 作者n4939733 (monster)\n",
      "(本文已被刪除) [accprote]\n",
      "[徵才] 阿里巴巴徵韌體專家/高級硬體專家(代po)\n",
      "作者: lqke (我思故我在)\n",
      "時間: 作者lqke (我思故我在)\n",
      "Re: [新聞] 紅色供應鏈奪蘋單 衝擊台廠\n",
      "作者: mzt (YOLO)\n",
      "時間: 作者mzt (YOLO)\n",
      "Re: [討論] 台積底薪為什麼不能跟豬屎屋看齊?\n",
      "作者: pipi1983 (放手￼ ￼ ￼N)\n",
      "時間: 作者pipi1983 (放手￼ ￼ ￼N)\n",
      "[新聞] 廣明光電判賠惠普金額增為三倍\n",
      "作者: modhairs ( 對錢的渴望)\n",
      "時間: 作者modhairs ( 對錢的渴望)\n",
      "[新聞] 近7萬元折疊機夯 台灣三星追加訂單\n",
      "作者: hvariables (Speculative Male)\n",
      "時間: 作者hvariables (Speculative Male)\n",
      "[請益] 敦泰V.S. 鋐寶 【公司請益】\n",
      "作者: Marco456 (Marco)\n",
      "時間: 作者Marco456 (Marco)\n",
      "[請益] 海歸EEE碩士 職涯請益\n",
      "作者: a0955837230 (魚子醬~*)\n",
      "時間: 作者a0955837230 (魚子醬~*)\n",
      "[請益] 年薪跟月薪的選擇\n",
      "作者: yorickwu (坑爹人生)\n",
      "時間: 作者yorickwu (坑爹人生)\n",
      "[討論] 真會有人會照搬企管mba的東西嗎?\n",
      "作者: hass231470 (hello)\n",
      "時間: 作者hass231470 (hello)\n",
      "[公告] Tech_Job板板規 2014.03.01\n",
      "作者: mmkntust (Blue Bleaching)\n",
      "時間: 作者mmkntust (Blue Bleaching)\n",
      "[公告] 置底 檢舉/推薦 文章\n",
      "作者: mmkntust (老王廚房)\n",
      "時間: 作者mmkntust (老王廚房)\n",
      "[公告] 如何消除退文 轉自Ask板\n",
      "作者: mmkntust (老王廚房)\n",
      "時間: 作者mmkntust (老王廚房)\n",
      "[情報] 律師為您解惑，免費勞動法問題諮詢服務\n",
      "作者: pzs ()\n",
      "時間: 作者pzs ()\n",
      "[心得] 非擔任主管職務之全時員工薪資\n",
      "作者: b89207040 (黃卓盛)\n",
      "時間: 作者b89207040 (黃卓盛)\n"
     ]
    }
   ],
   "source": [
    "import requests\n",
    "from bs4 import BeautifulSoup\n",
    "url='https://www.ptt.cc/bbs/Tech_Job/index.html'\n",
    "r=requests.get(url)\n",
    "soup=BeautifulSoup(r.text,\"html5lib\")\n",
    "for d in soup.find_all(class_=\"title\"):\n",
    "    print(d.text.replace('\\t', '').replace('\\n', ''))\n",
    "    try:\n",
    "        r = BeautifulSoup(requests.get('https://www.ptt.cc'+d.find('a')['href']).text, \"html5lib\")\n",
    "        print('作者: ' + r.find(class_='article-meta-value').text)\n",
    "        print('時間: ' + r.find(class_='article-metaline').text)\n",
    "    except:\n",
    "        continue"
   ]
  },
  {
   "cell_type": "code",
   "execution_count": null,
   "metadata": {},
   "outputs": [],
   "source": []
  }
 ],
 "metadata": {
  "kernelspec": {
   "display_name": "Python 3",
   "language": "python",
   "name": "python3"
  },
  "language_info": {
   "codemirror_mode": {
    "name": "ipython",
    "version": 3
   },
   "file_extension": ".py",
   "mimetype": "text/x-python",
   "name": "python",
   "nbconvert_exporter": "python",
   "pygments_lexer": "ipython3",
   "version": "3.7.3"
  }
 },
 "nbformat": 4,
 "nbformat_minor": 2
}
