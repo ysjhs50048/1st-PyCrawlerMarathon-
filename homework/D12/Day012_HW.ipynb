{
 "cells": [
  {
   "cell_type": "markdown",
   "metadata": {},
   "source": [
    "# Ettoday 網路爬蟲實作練習\n",
    "\n",
    "\n",
    "* 能夠利用 Request + BeatifulSour 撰寫爬蟲，並存放到合適的資料結構\n"
   ]
  },
  {
   "cell_type": "markdown",
   "metadata": {},
   "source": [
    "## 作業目標\n",
    "\n",
    "根據範例 ，完成以下問題：\n",
    "\n",
    "* ① 取出今天所有的發文\n",
    "* ② 如果想要依照類別分類，怎麼儲存會比較好？\n",
    "* ③ 哪一個類別的文章最多\n",
    "\n",
    "\n"
   ]
  },
  {
   "cell_type": "markdown",
   "metadata": {},
   "source": [
    "### ① 取出今天所有的發文"
   ]
  },
  {
   "cell_type": "code",
   "execution_count": 4,
   "metadata": {
    "scrolled": false
   },
   "outputs": [],
   "source": [
    "import requests\n",
    "from bs4 import BeautifulSoup\n",
    "\n",
    "url = 'https://www.ettoday.net/news/news-list.htm'\n",
    "r = requests.get(url)\n",
    "\n",
    "soup = BeautifulSoup(r.text, \"html5lib\")\n",
    "#for d in soup.find(class_=\"part_list_2\").find_all('h3'):\n",
    "#    print(d.find(class_=\"date\").text, d.find_all('a')[-1].text)\n"
   ]
  },
  {
   "cell_type": "markdown",
   "metadata": {},
   "source": [
    "### ② 如果想要依照類別分類，怎麼儲存會比較好？"
   ]
  },
  {
   "cell_type": "code",
   "execution_count": 65,
   "metadata": {},
   "outputs": [
    {
     "name": "stdout",
     "output_type": "stream",
     "text": [
      "0 385 210 35 420 210 280 70 0 350 35 0 175 70 0 0 0 0 175 0 0 0 0 315 0 0 0 140 35 35 0 0 0 0 0\n"
     ]
    }
   ],
   "source": [
    "sort=[]\n",
    "num=[]\n",
    "\n",
    "for d in soup.find(class_=\"part_menu_2\").find_all('li'):\n",
    "    if d.find_all('a'):\n",
    "        sort.append(d.find_all('a')[0].text)\n",
    "i0=0\n",
    "i1=0\n",
    "i2=0\n",
    "i3=0\n",
    "i4=0\n",
    "i5=0\n",
    "i6=0\n",
    "i7=0\n",
    "i8=0\n",
    "i9=0\n",
    "i10=0\n",
    "i11=0\n",
    "i12=0\n",
    "i13=0\n",
    "i14=0\n",
    "i15=0\n",
    "i16=0\n",
    "i17=0\n",
    "i18=0\n",
    "i19=0\n",
    "i20=0\n",
    "i21=0\n",
    "i22=0\n",
    "i23=0\n",
    "i24=0\n",
    "i25=0\n",
    "i26=0\n",
    "i27=0\n",
    "i28=0\n",
    "i29=0\n",
    "i30=0\n",
    "i31=0\n",
    "i32=0\n",
    "i33=0\n",
    "i34=0\n",
    "for s in soup.find(class_=\"part_list_2\").find_all('h3'):\n",
    "    for d1 in range(0,len(sort)):\n",
    "        if s.find(class_=\"tag\").text==sort[0]:\n",
    "            i0+=1\n",
    "        elif s.find(class_=\"tag\").text==sort[1]:\n",
    "            i1+=1\n",
    "        elif s.find(class_=\"tag\").text==sort[2]:\n",
    "            i2+=1\n",
    "        elif s.find(class_=\"tag\").text==sort[3]:\n",
    "            i3+=1\n",
    "        elif s.find(class_=\"tag\").text==sort[4]:\n",
    "            i4+=1\n",
    "        elif s.find(class_=\"tag\").text==sort[5]:\n",
    "            i5+=1\n",
    "        elif s.find(class_=\"tag\").text==sort[6]:\n",
    "            i6+=1\n",
    "        elif s.find(class_=\"tag\").text==sort[7]:\n",
    "            i7+=1\n",
    "        elif s.find(class_=\"tag\").text==sort[8]:\n",
    "            i8+=1\n",
    "        elif s.find(class_=\"tag\").text==sort[9]:\n",
    "            i9+=1\n",
    "        elif s.find(class_=\"tag\").text==sort[10]:\n",
    "            i10+=1\n",
    "        elif s.find(class_=\"tag\").text==sort[1]:\n",
    "            i11+=1\n",
    "        elif s.find(class_=\"tag\").text==sort[12]:\n",
    "            i12+=1\n",
    "        elif s.find(class_=\"tag\").text==sort[13]:\n",
    "            i13+=1\n",
    "        elif s.find(class_=\"tag\").text==sort[14]:\n",
    "            i14+=1\n",
    "        elif s.find(class_=\"tag\").text==sort[15]:\n",
    "            i15+=1\n",
    "        elif s.find(class_=\"tag\").text==sort[16]:\n",
    "            i16+=1\n",
    "        elif s.find(class_=\"tag\").text==sort[17]:\n",
    "            i17+=1\n",
    "        elif s.find(class_=\"tag\").text==sort[18]:\n",
    "            i18+=1\n",
    "        elif s.find(class_=\"tag\").text==sort[19]:\n",
    "            i19+=1\n",
    "        if s.find(class_=\"tag\").text==sort[20]:\n",
    "            i20+=1\n",
    "        elif s.find(class_=\"tag\").text==sort[21]:\n",
    "            i21+=1\n",
    "        elif s.find(class_=\"tag\").text==sort[22]:\n",
    "            i22+=1\n",
    "        elif s.find(class_=\"tag\").text==sort[23]:\n",
    "            i23+=1\n",
    "        elif s.find(class_=\"tag\").text==sort[24]:\n",
    "            i24+=1\n",
    "        elif s.find(class_=\"tag\").text==sort[25]:\n",
    "            i25+=1\n",
    "        elif s.find(class_=\"tag\").text==sort[26]:\n",
    "            i26+=1\n",
    "        elif s.find(class_=\"tag\").text==sort[27]:\n",
    "            i27+=1\n",
    "        elif s.find(class_=\"tag\").text==sort[28]:\n",
    "            i28+=1\n",
    "        elif s.find(class_=\"tag\").text==sort[29]:\n",
    "            i29+=1\n",
    "        if s.find(class_=\"tag\").text==sort[30]:\n",
    "            i30+=1\n",
    "        elif s.find(class_=\"tag\").text==sort[31]:\n",
    "            i31+=1\n",
    "        elif s.find(class_=\"tag\").text==sort[32]:\n",
    "            i32+=1\n",
    "        elif s.find(class_=\"tag\").text==sort[33]:\n",
    "            i33+=1\n",
    "        elif s.find(class_=\"tag\").text==sort[34]:\n",
    "            i34+=1\n",
    "\n",
    "print(i0,i1,i2,i3,i4,i5,i6,i7,i8,i9,i10,i11,i12,i13,i14,i15,i16,i17,i18,i19,i20,i21,i22,i23,i24,i25,i26,i27,i28,i29,i30,i31,i32,i33,i34)"
   ]
  },
  {
   "cell_type": "markdown",
   "metadata": {},
   "source": [
    "### ③ 哪一個類別的文章最多"
   ]
  },
  {
   "cell_type": "code",
   "execution_count": 66,
   "metadata": {
    "scrolled": true
   },
   "outputs": [
    {
     "name": "stdout",
     "output_type": "stream",
     "text": [
      "['總覽', '政治', '財經', '論壇', '國際', '大陸', '社會', '地方', '新奇', '生活', '寵物動物', '影劇', '體育', '旅遊', '消費', '名家', 'ET來了', '3C家電', '健康', '男女', '公益', '遊戲', '電影', '時尚', '網搜', '電商', '親子', '房產雲', 'ET車雲', '軍武', '保險', '法律', '直銷雲', '探索', '電競']\n",
      "0 385 210 35 420 210 280 70 0 350 35 0 175 70 0 0 0 0 175 0 0 0 0 315 0 0 0 140 35 35 0 0 0 0 0\n"
     ]
    }
   ],
   "source": [
    "print(sort)\n",
    "print(i0,i1,i2,i3,i4,i5,i6,i7,i8,i9,i10,i11,i12,i13,i14,i15,i16,i17,i18,i19,i20,i21,i22,i23,i24,i25,i26,i27,i28,i29,i30,i31,i32,i33,i34)"
   ]
  },
  {
   "cell_type": "code",
   "execution_count": null,
   "metadata": {},
   "outputs": [],
   "source": []
  },
  {
   "cell_type": "code",
   "execution_count": null,
   "metadata": {},
   "outputs": [],
   "source": []
  },
  {
   "cell_type": "code",
   "execution_count": null,
   "metadata": {},
   "outputs": [],
   "source": []
  }
 ],
 "metadata": {
  "kernelspec": {
   "display_name": "Python 3",
   "language": "python",
   "name": "python3"
  },
  "language_info": {
   "codemirror_mode": {
    "name": "ipython",
    "version": 3
   },
   "file_extension": ".py",
   "mimetype": "text/x-python",
   "name": "python",
   "nbconvert_exporter": "python",
   "pygments_lexer": "ipython3",
   "version": "3.7.3"
  }
 },
 "nbformat": 4,
 "nbformat_minor": 2
}
